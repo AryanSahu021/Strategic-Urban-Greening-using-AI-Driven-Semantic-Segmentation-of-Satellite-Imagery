{
  "cells": [
    {
      "cell_type": "code",
      "execution_count": 1,
      "metadata": {
        "id": "F3VZeFbzPUNZ"
      },
      "outputs": [],
      "source": [
        "import ee\n",
        "\n",
        "ee.Authenticate()\n",
        "ee.Initialize(project='remoteanalysis')"
      ]
    },
    {
      "cell_type": "code",
      "execution_count": null,
      "metadata": {
        "id": "y-9dlXb2Qpdz"
      },
      "outputs": [],
      "source": [
        "\n",
        "rectangle = ee.Geometry.Rectangle([ -111.97166062364953,33.37949443963484, -111.73160638788757,33.4700810862517])\n",
        "data = ee.ImageCollection(\"LANDSAT/LC09/C02/T1_L2\")\n",
        "filtered_data = data.filterBounds(rectangle)\n",
        "filtered_data = filtered_data.filterDate('2022-04-01', '2022-10-31')\n",
        "image_to_export = filtered_data.median().select('ST_B10')\n",
        "\n",
        "task = ee.batch.Export.image.toDrive(**{\n",
        "    'image': image_to_export,\n",
        "    'description': 'Landsat9_ST_B10',\n",
        "    'folder': 'EarthEngineExports',\n",
        "    'scale': 1,\n",
        "    'region': rectangle,\n",
        "    'fileFormat': 'GeoTIFF',\n",
        "    'maxPixels': 1e10\n",
        "})\n",
        "\n",
        "\n",
        "task.start()\n",
        "\n"
      ]
    },
    {
      "cell_type": "code",
      "execution_count": 3,
      "metadata": {
        "colab": {
          "base_uri": "https://localhost:8080/"
        },
        "id": "kUNovTYJSZui",
        "outputId": "b15dea54-67cd-42ce-fad2-3655dc815148"
      },
      "outputs": [
        {
          "data": {
            "text/plain": [
              "{'state': 'RUNNING',\n",
              " 'description': 'Landsat9_ST_B10',\n",
              " 'priority': 100,\n",
              " 'creation_timestamp_ms': 1713422783638,\n",
              " 'update_timestamp_ms': 1713422789827,\n",
              " 'start_timestamp_ms': 1713422786561,\n",
              " 'task_type': 'EXPORT_IMAGE',\n",
              " 'attempt': 1,\n",
              " 'id': 'WKCOIOFBE7EUM6WYSRVQ23R3',\n",
              " 'name': 'projects/remoteanalysis/operations/WKCOIOFBE7EUM6WYSRVQ23R3'}"
            ]
          },
          "execution_count": 3,
          "metadata": {},
          "output_type": "execute_result"
        }
      ],
      "source": [
        "task.status()"
      ]
    }
  ],
  "metadata": {
    "colab": {
      "provenance": []
    },
    "kernelspec": {
      "display_name": "Python 3",
      "name": "python3"
    },
    "language_info": {
      "name": "python"
    }
  },
  "nbformat": 4,
  "nbformat_minor": 0
}
