{
  "nbformat": 4,
  "nbformat_minor": 0,
  "metadata": {
    "colab": {
      "provenance": []
    },
    "kernelspec": {
      "name": "python3",
      "display_name": "Python 3"
    },
    "language_info": {
      "name": "python"
    }
  },
  "cells": [
    {
      "cell_type": "code",
      "source": [
        "# -110.98593360469597,32.119852392434886,-110.96134311244744,32.14143973371328 -> tucson\n",
        "# -115.27801733814995,36.12999160557592,-115.20842157859131,36.17372304746813 -> vegas\n",
        "# -112.15126504390945,33.42321162919293,-112.03324784725417,33.4511453369812 -> central pheonix\n",
        "# -111.822561470318,33.387918140789715,-111.73681661252992,33.437138413648526 -> mesa\n",
        "# -111.99540598028013,33.583543258052714,-111.90854532354184,33.61099636479852 -> paradise"
      ],
      "metadata": {
        "id": "i0J0GzLFg39N"
      },
      "execution_count": null,
      "outputs": []
    },
    {
      "cell_type": "code",
      "source": [
        "import ee\n",
        "\n",
        "ee.Authenticate()\n",
        "ee.Initialize(project='ee-astitvaaryan')\n",
        "\n",
        "worldpop = ee.ImageCollection('WorldPop/GP/100m/pop')\n",
        "\n",
        "vis_worldpop = {\n",
        "  'bands': ['population'],\n",
        "  'min': 0.0,\n",
        "  'max': 100.0,\n",
        "  'palette': ['24126c', '1fff4f', 'd4ff50']\n",
        "}\n",
        "\n",
        "cen_phoenix_region = ee.Geometry.Rectangle([-112.15126504390945,33.42321162919293,-112.03324784725417,33.4511453369812])\n",
        "\n",
        "center_point = cen_phoenix_region.centroid()\n",
        "\n",
        "Map = ee.ImageCollection(worldpop.filterBounds(cen_phoenix_region)).mosaic().clip(cen_phoenix_region)\n",
        "\n",
        "task = ee.batch.Export.image.toDrive(image=Map.select(['population']),\n",
        "                                     description='cen_phoenix_pop',\n",
        "                                     folder='earth_engine_data',\n",
        "                                     region=cen_phoenix_region,\n",
        "                                     scale=1,\n",
        "                                     fileFormat='GeoTIFF')\n",
        "task.start()\n",
        "\n"
      ],
      "metadata": {
        "id": "VBV_fs2UX8d0"
      },
      "execution_count": null,
      "outputs": []
    },
    {
      "cell_type": "code",
      "source": [
        "task.status()"
      ],
      "metadata": {
        "colab": {
          "base_uri": "https://localhost:8080/"
        },
        "id": "8M4YIshjZN1v",
        "outputId": "c1b56414-5aa0-458b-984b-cbcde0ea2bd7"
      },
      "execution_count": null,
      "outputs": [
        {
          "output_type": "execute_result",
          "data": {
            "text/plain": [
              "{'state': 'READY',\n",
              " 'description': 'cen_phoenix_pop',\n",
              " 'priority': 100,\n",
              " 'creation_timestamp_ms': 1713524034008,\n",
              " 'update_timestamp_ms': 1713524034008,\n",
              " 'start_timestamp_ms': 0,\n",
              " 'task_type': 'EXPORT_IMAGE',\n",
              " 'id': 'MMOQETHEP25YOEQYOBP7VNLJ',\n",
              " 'name': 'projects/ee-astitvaaryan/operations/MMOQETHEP25YOEQYOBP7VNLJ'}"
            ]
          },
          "metadata": {},
          "execution_count": 23
        }
      ]
    },
    {
      "cell_type": "code",
      "source": [
        "\n",
        "import ee\n",
        "\n",
        "ee.Authenticate()\n",
        "ee.Initialize(project='ee-astitvaaryan')\n",
        "\n",
        "worldpop = ee.ImageCollection('WorldPop/GP/100m/pop')\n",
        "\n",
        "vis_worldpop = {\n",
        "  'bands': ['population'],\n",
        "  'min': 0.0,\n",
        "  'max': 100.0,\n",
        "  'palette': ['24126c', '1fff4f', 'd4ff50']\n",
        "}\n",
        "\n",
        "paradise_region = ee.Geometry.Rectangle([-111.99540598028013,33.583543258052714,-111.90854532354184,33.61099636479852])\n",
        "\n",
        "center_point = paradise_region.centroid()\n",
        "\n",
        "Map = ee.ImageCollection(worldpop.filterBounds(paradise_region)).mosaic().clip(paradise_region)\n",
        "\n",
        "task = ee.batch.Export.image.toDrive(image=Map.select(['population']),\n",
        "                                     description='paradise_pop',\n",
        "                                     folder='earth_engine_data',\n",
        "                                     region=paradise_region,\n",
        "                                     scale=1,\n",
        "                                     fileFormat='GeoTIFF')\n",
        "task.start()\n",
        "\n"
      ],
      "metadata": {
        "id": "b0QkoOnGa95K"
      },
      "execution_count": null,
      "outputs": []
    },
    {
      "cell_type": "code",
      "source": [
        "task.status()"
      ],
      "metadata": {
        "colab": {
          "base_uri": "https://localhost:8080/"
        },
        "id": "QS1nSJWa2p8p",
        "outputId": "75b89866-6919-471e-a4e9-a0efe677d526"
      },
      "execution_count": null,
      "outputs": [
        {
          "output_type": "execute_result",
          "data": {
            "text/plain": [
              "{'state': 'RUNNING',\n",
              " 'description': 'paradise_pop',\n",
              " 'priority': 100,\n",
              " 'creation_timestamp_ms': 1713524565066,\n",
              " 'update_timestamp_ms': 1713524630928,\n",
              " 'start_timestamp_ms': 1713524570382,\n",
              " 'task_type': 'EXPORT_IMAGE',\n",
              " 'attempt': 1,\n",
              " 'id': 'XNVSHD23WIHAEFXVKJRXKWMF',\n",
              " 'name': 'projects/ee-astitvaaryan/operations/XNVSHD23WIHAEFXVKJRXKWMF'}"
            ]
          },
          "metadata": {},
          "execution_count": 31
        }
      ]
    },
    {
      "cell_type": "code",
      "source": [
        "\n",
        "import ee\n",
        "\n",
        "ee.Authenticate()\n",
        "ee.Initialize(project='ee-astitvaaryan')\n",
        "\n",
        "worldpop = ee.ImageCollection('WorldPop/GP/100m/pop')\n",
        "\n",
        "vis_worldpop = {\n",
        "  'bands': ['population'],\n",
        "  'min': 0.0,\n",
        "  'max': 100.0,\n",
        "  'palette': ['24126c', '1fff4f', 'd4ff50']\n",
        "}\n",
        "\n",
        "vegas_region = ee.Geometry.Rectangle([-115.27801733814995,36.12999160557592,-115.20842157859131,36.17372304746813])\n",
        "\n",
        "center_point = vegas_region.centroid()\n",
        "\n",
        "Map = ee.ImageCollection(worldpop.filterBounds(vegas_region)).mosaic().clip(vegas_region)\n",
        "\n",
        "task = ee.batch.Export.image.toDrive(image=Map.select(['population']),\n",
        "                                     description='vegas_pop',\n",
        "                                     folder='earth_engine_data',\n",
        "                                     region=vegas_region,\n",
        "                                     scale=1,\n",
        "                                     fileFormat='GeoTIFF')\n",
        "task.start()\n",
        "\n"
      ],
      "metadata": {
        "id": "fuuyJSMw29CB"
      },
      "execution_count": null,
      "outputs": []
    },
    {
      "cell_type": "code",
      "source": [
        "task.status()"
      ],
      "metadata": {
        "colab": {
          "base_uri": "https://localhost:8080/"
        },
        "id": "UFKJE6OY_xHD",
        "outputId": "ee7d0758-d71a-486a-e9d4-eda05f6f55f5"
      },
      "execution_count": null,
      "outputs": [
        {
          "output_type": "execute_result",
          "data": {
            "text/plain": [
              "{'state': 'COMPLETED',\n",
              " 'description': 'vegas_pop',\n",
              " 'priority': 100,\n",
              " 'creation_timestamp_ms': 1713524695271,\n",
              " 'update_timestamp_ms': 1713525037712,\n",
              " 'start_timestamp_ms': 1713524701184,\n",
              " 'task_type': 'EXPORT_IMAGE',\n",
              " 'destination_uris': ['https://drive.google.com/#folders/1JqsOizBh6XhrR37sjP1IMaofpBoTExSD'],\n",
              " 'attempt': 1,\n",
              " 'batch_eecu_usage_seconds': 262.5096130371094,\n",
              " 'id': 'E4KTFGXIKEADKZJRVG32GW55',\n",
              " 'name': 'projects/ee-astitvaaryan/operations/E4KTFGXIKEADKZJRVG32GW55'}"
            ]
          },
          "metadata": {},
          "execution_count": 34
        }
      ]
    },
    {
      "cell_type": "code",
      "source": [
        "import ee\n",
        "\n",
        "ee.Authenticate()\n",
        "ee.Initialize(project='ee-astitvaaryan')\n",
        "\n",
        "worldpop = ee.ImageCollection('WorldPop/GP/100m/pop')\n",
        "\n",
        "vis_worldpop = {\n",
        "  'bands': ['population'],\n",
        "  'min': 0.0,\n",
        "  'max': 100.0,\n",
        "  'palette': ['24126c', '1fff4f', 'd4ff50']\n",
        "}\n",
        "\n",
        "tucson_region = ee.Geometry.Rectangle([-110.98593360469597,32.119852392434886,-110.96134311244744,32.14143973371328])\n",
        "\n",
        "center_point = tucson_region.centroid()\n",
        "\n",
        "Map = ee.ImageCollection(worldpop.filterBounds(tucson_region)).mosaic().clip(tucson_region)\n",
        "\n",
        "task = ee.batch.Export.image.toDrive(image=Map.select(['population']),\n",
        "                                     description='tucson_pop',\n",
        "                                     folder='earth_engine_data',\n",
        "                                     region=tucson_region,\n",
        "                                     scale=1,\n",
        "                                     fileFormat='GeoTIFF')\n",
        "task.start()\n",
        "\n"
      ],
      "metadata": {
        "id": "zK6ejLh3AC5R"
      },
      "execution_count": null,
      "outputs": []
    },
    {
      "cell_type": "code",
      "source": [
        "task.status()"
      ],
      "metadata": {
        "colab": {
          "base_uri": "https://localhost:8080/"
        },
        "id": "7wWdDaosAHvk",
        "outputId": "2fb26d6b-7334-49ca-c038-a5816c593ec7"
      },
      "execution_count": null,
      "outputs": [
        {
          "output_type": "execute_result",
          "data": {
            "text/plain": [
              "{'state': 'READY',\n",
              " 'description': 'tucson_pop',\n",
              " 'priority': 100,\n",
              " 'creation_timestamp_ms': 1713524300396,\n",
              " 'update_timestamp_ms': 1713524300396,\n",
              " 'start_timestamp_ms': 0,\n",
              " 'task_type': 'EXPORT_IMAGE',\n",
              " 'id': 'W4VEWLHDJ64RMPDQGYVUMA26',\n",
              " 'name': 'projects/ee-astitvaaryan/operations/W4VEWLHDJ64RMPDQGYVUMA26'}"
            ]
          },
          "metadata": {},
          "execution_count": 29
        }
      ]
    }
  ]
}